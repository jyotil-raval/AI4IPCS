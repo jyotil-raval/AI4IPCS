{
  "nbformat": 4,
  "nbformat_minor": 0,
  "metadata": {
    "colab": {
      "provenance": [],
      "toc_visible": true,
      "authorship_tag": "ABX9TyM/66UREoaTdVIQDhIu2vXI",
      "include_colab_link": true
    },
    "kernelspec": {
      "name": "python3",
      "display_name": "Python 3"
    },
    "language_info": {
      "name": "python"
    }
  },
  "cells": [
    {
      "cell_type": "markdown",
      "metadata": {
        "id": "view-in-github",
        "colab_type": "text"
      },
      "source": [
        "<a href=\"https://colab.research.google.com/github/jyotil-raval/AI4IPCS/blob/main/AI_DEMO.ipynb\" target=\"_parent\"><img src=\"https://colab.research.google.com/assets/colab-badge.svg\" alt=\"Open In Colab\"/></a>"
      ]
    },
    {
      "cell_type": "code",
      "execution_count": null,
      "metadata": {
        "colab": {
          "base_uri": "https://localhost:8080/"
        },
        "id": "-Z0BNpc5UUL9",
        "outputId": "9f1a3774-e15c-4ce5-ba40-d85b191ae3ea"
      },
      "outputs": [
        {
          "output_type": "stream",
          "name": "stdout",
          "text": [
            "What is your name?om\n",
            "Hello, How are you om\n"
          ]
        }
      ],
      "source": [
        "ip = input(\"What is your name?\")\n",
        "print(f\"Hello, How are you {ip}\")"
      ]
    },
    {
      "cell_type": "code",
      "source": [
        "# Ask the price of two products from the user and tell the user the total price\n",
        "\n",
        "first_product_price = input('What is the price of the first prodcut?')\n",
        "\n",
        "second_prodcut_price = input('What is the price of the second product?')\n",
        "\n",
        "total_price = float(first_product_price) + float(second_prodcut_price)\n",
        "\n",
        "print(f'The total price of the products is: {total_price}')"
      ],
      "metadata": {
        "colab": {
          "base_uri": "https://localhost:8080/"
        },
        "id": "OjS4mbkpbktR",
        "outputId": "3caa6ddc-d956-4e9b-ee00-8649cb54d481"
      },
      "execution_count": null,
      "outputs": [
        {
          "output_type": "stream",
          "name": "stdout",
          "text": [
            "What is the price of the first prodcut?10\n",
            "What is the price of the second product?20\n",
            "The total price of the products is: 30.0\n"
          ]
        }
      ]
    },
    {
      "cell_type": "code",
      "source": [
        "# List\n",
        "arrr1 = ['a', 'b', 'c']\n",
        "arrr2 = ['d', 'e', 'f']\n",
        "arr3 = arrr1+arrr2\n",
        "print(arrr1)\n",
        "print(arrr1)\n",
        "print(arr3)"
      ],
      "metadata": {
        "colab": {
          "base_uri": "https://localhost:8080/"
        },
        "id": "uPJbZiGud6Ir",
        "outputId": "f4a45425-19fd-4e4c-e065-8ce276301d5d"
      },
      "execution_count": null,
      "outputs": [
        {
          "output_type": "stream",
          "name": "stdout",
          "text": [
            "['a', 'b', 'c']\n",
            "['a', 'b', 'c']\n",
            "['a', 'b', 'c', 'd', 'e', 'f']\n"
          ]
        }
      ]
    },
    {
      "cell_type": "code",
      "source": [
        "for item in arr3:\n",
        "  print(f\"{item}\")"
      ],
      "metadata": {
        "colab": {
          "base_uri": "https://localhost:8080/"
        },
        "id": "gvUkG8pleyrV",
        "outputId": "de31fc7f-6f97-487f-f6eb-4e662fdd62a6"
      },
      "execution_count": null,
      "outputs": [
        {
          "output_type": "stream",
          "name": "stdout",
          "text": [
            "a\n",
            "b\n",
            "c\n",
            "d\n",
            "e\n",
            "f\n"
          ]
        }
      ]
    }
  ]
}